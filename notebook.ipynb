{
 "cells": [
  {
   "cell_type": "code",
   "execution_count": 2,
   "metadata": {},
   "outputs": [],
   "source": [
    "import sys\n",
    "sys.path.append(r'c:\\users\\lorenzo\\desktop\\worskspace\\github\\linearregression\\.venv\\lib\\site-packages')\n",
    "import numpy as np\n",
    "import pandas as pd\n",
    "from sklearn.model_selection import train_test_split"
   ]
  },
  {
   "cell_type": "code",
   "execution_count": 27,
   "metadata": {},
   "outputs": [],
   "source": [
    "data = pd.read_csv('https://github.com/ybifoundation/Dataset/raw/main/Salary%20Data.csv')"
   ]
  },
  {
   "cell_type": "code",
   "execution_count": 41,
   "metadata": {},
   "outputs": [],
   "source": [
    "train, test = train_test_split(data, train_size=0.75, random_state=10)"
   ]
  },
  {
   "cell_type": "code",
   "execution_count": 42,
   "metadata": {},
   "outputs": [],
   "source": [
    "x_train_raw = np.array(train['Experience Years'])\n",
    "y_train_raw = np.array(train['Salary'])\n",
    "x_test_raw = np.array(test['Experience Years'])\n",
    "y_test_raw = np.array(test['Salary'])"
   ]
  },
  {
   "cell_type": "code",
   "execution_count": 43,
   "metadata": {},
   "outputs": [],
   "source": [
    "def normalize(data):\n",
    "    min = np.min(data)\n",
    "    max = np.max(data)\n",
    "    data_norm = (data - min)/(max-min)\n",
    "    return data_norm"
   ]
  },
  {
   "cell_type": "code",
   "execution_count": 44,
   "metadata": {},
   "outputs": [
    {
     "data": {
      "text/plain": [
       "array([ 2.2,  2.5,  1.5,  4.9,  4.7,  8.7,  1.2,  4.3,  3.5,  9.6,  5.3,\n",
       "        4. ,  4.5,  2. ,  5.1,  8.2,  3.2, 10.3, 10.5,  3. ,  6. ,  4.1,\n",
       "        8.5,  6.8,  5.9,  6.5,  1.1,  4. ,  9.5,  3.2])"
      ]
     },
     "execution_count": 44,
     "metadata": {},
     "output_type": "execute_result"
    }
   ],
   "source": [
    "x_train_raw"
   ]
  },
  {
   "cell_type": "code",
   "execution_count": 45,
   "metadata": {},
   "outputs": [],
   "source": [
    "x_train = normalize(x_train_raw)"
   ]
  },
  {
   "cell_type": "code",
   "execution_count": 46,
   "metadata": {},
   "outputs": [
    {
     "data": {
      "text/plain": [
       "array([0.11702128, 0.14893617, 0.04255319, 0.40425532, 0.38297872,\n",
       "       0.80851064, 0.0106383 , 0.34042553, 0.25531915, 0.90425532,\n",
       "       0.44680851, 0.30851064, 0.36170213, 0.09574468, 0.42553191,\n",
       "       0.75531915, 0.22340426, 0.9787234 , 1.        , 0.20212766,\n",
       "       0.5212766 , 0.31914894, 0.78723404, 0.60638298, 0.5106383 ,\n",
       "       0.57446809, 0.        , 0.30851064, 0.89361702, 0.22340426])"
      ]
     },
     "execution_count": 46,
     "metadata": {},
     "output_type": "execute_result"
    }
   ],
   "source": [
    "x_train"
   ]
  },
  {
   "cell_type": "code",
   "execution_count": null,
   "metadata": {},
   "outputs": [],
   "source": []
  }
 ],
 "metadata": {
  "kernelspec": {
   "display_name": "Python 3",
   "language": "python",
   "name": "python3"
  },
  "language_info": {
   "codemirror_mode": {
    "name": "ipython",
    "version": 3
   },
   "file_extension": ".py",
   "mimetype": "text/x-python",
   "name": "python",
   "nbconvert_exporter": "python",
   "pygments_lexer": "ipython3",
   "version": "3.10.6"
  }
 },
 "nbformat": 4,
 "nbformat_minor": 2
}
